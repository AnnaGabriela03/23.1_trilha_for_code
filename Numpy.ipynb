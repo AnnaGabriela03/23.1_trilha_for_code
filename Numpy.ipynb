{
  "nbformat": 4,
  "nbformat_minor": 0,
  "metadata": {
    "colab": {
      "provenance": [],
      "authorship_tag": "ABX9TyOxTCg21aZEHYrEBx9u2+J7",
      "include_colab_link": true
    },
    "kernelspec": {
      "name": "python3",
      "display_name": "Python 3"
    },
    "language_info": {
      "name": "python"
    }
  },
  "cells": [
    {
      "cell_type": "markdown",
      "metadata": {
        "id": "view-in-github",
        "colab_type": "text"
      },
      "source": [
        "<a href=\"https://colab.research.google.com/github/AnnaGabriela03/23.1_trilha_for_code/blob/main/Numpy.ipynb\" target=\"_parent\"><img src=\"https://colab.research.google.com/assets/colab-badge.svg\" alt=\"Open In Colab\"/></a>"
      ]
    },
    {
      "cell_type": "code",
      "source": [
        "# im bacc bitches!!\n",
        "#numpy é uma, bibliotea em C\n",
        "import numpy as np\n",
        "lista_python = [1,2,3]\n",
        "numpy_array = np.array([[1,2,3], [2,3,4], [1,2,3]])\n",
        "numpy_array"
      ],
      "metadata": {
        "colab": {
          "base_uri": "https://localhost:8080/"
        },
        "id": "lGvzdhBu3jcd",
        "outputId": "4b8656c9-16d9-4f13-a5e8-3bdfab43f013"
      },
      "execution_count": 29,
      "outputs": [
        {
          "output_type": "execute_result",
          "data": {
            "text/plain": [
              "array([[1, 2, 3],\n",
              "       [2, 3, 4],\n",
              "       [1, 2, 3]])"
            ]
          },
          "metadata": {},
          "execution_count": 29
        }
      ]
    },
    {
      "cell_type": "code",
      "source": [
        "det_A = np.linalg.det(numpy_array)\n",
        "det_A"
      ],
      "metadata": {
        "colab": {
          "base_uri": "https://localhost:8080/"
        },
        "id": "qYMLcrB__Gob",
        "outputId": "601e8c58-8d4c-473e-90b5-737c1d33a0ed"
      },
      "execution_count": 30,
      "outputs": [
        {
          "output_type": "execute_result",
          "data": {
            "text/plain": [
              "0.0"
            ]
          },
          "metadata": {},
          "execution_count": 30
        }
      ]
    },
    {
      "cell_type": "code",
      "source": [
        "numpy_array = np.append(numpy_array, [1])\n",
        "numpy_array"
      ],
      "metadata": {
        "colab": {
          "base_uri": "https://localhost:8080/"
        },
        "id": "gBaH18fy71mF",
        "outputId": "38061c89-355a-4b53-af48-9aec5802d101"
      },
      "execution_count": 18,
      "outputs": [
        {
          "output_type": "execute_result",
          "data": {
            "text/plain": [
              "array([1, 2, 4, 1, 1, 1])"
            ]
          },
          "metadata": {},
          "execution_count": 18
        }
      ]
    },
    {
      "cell_type": "code",
      "source": [
        "array2 = np.linspace(1, 10, 10)\n",
        "array2"
      ],
      "metadata": {
        "colab": {
          "base_uri": "https://localhost:8080/"
        },
        "id": "BCqHM1BK8UUJ",
        "outputId": "91712924-8704-4d4e-ba4c-5c07ac11541f"
      },
      "execution_count": 23,
      "outputs": [
        {
          "output_type": "execute_result",
          "data": {
            "text/plain": [
              "array([ 1.,  2.,  3.,  4.,  5.,  6.,  7.,  8.,  9., 10.])"
            ]
          },
          "metadata": {},
          "execution_count": 23
        }
      ]
    },
    {
      "cell_type": "code",
      "source": [
        "numpy_array * 3\n",
        "# prod vetorial"
      ],
      "metadata": {
        "colab": {
          "base_uri": "https://localhost:8080/"
        },
        "id": "vSnf47_E8uSK",
        "outputId": "2f38617e-6443-4691-e3f4-9ab0f967d066"
      },
      "execution_count": 24,
      "outputs": [
        {
          "output_type": "execute_result",
          "data": {
            "text/plain": [
              "array([ 3,  6, 12,  3,  3,  3])"
            ]
          },
          "metadata": {},
          "execution_count": 24
        }
      ]
    },
    {
      "cell_type": "code",
      "source": [
        "# array3 = np.array()\n",
        "# numpy_array.dot()\n",
        "# # tem td um pacote de algelin etc\n",
        "# A_inv = np.linalg.inv(A)\n",
        "# det_A = np.linalg.det(A)\n",
        "# # vetores e mt mais rs"
      ],
      "metadata": {
        "id": "ifGAFV_Z9Wwm"
      },
      "execution_count": 27,
      "outputs": []
    }
  ]
}